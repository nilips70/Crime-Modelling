{
 "cells": [
  {
   "cell_type": "code",
   "execution_count": 1,
   "metadata": {},
   "outputs": [
    {
     "ename": "OSError",
     "evalue": "An error occurred while calling the read_csv method registered to the pandas backend.\nOriginal Message: {2015,2016,2017,2018,2019,2020,2021,2022,2023}*street.csv resolved to no files",
     "output_type": "error",
     "traceback": [
      "\u001b[0;31m---------------------------------------------------------------------------\u001b[0m",
      "\u001b[0;31mOSError\u001b[0m                                   Traceback (most recent call last)",
      "File \u001b[0;32m/opt/homebrew/lib/python3.9/site-packages/dask/backends.py:136\u001b[0m, in \u001b[0;36mCreationDispatch.register_inplace.<locals>.decorator.<locals>.wrapper\u001b[0;34m(*args, **kwargs)\u001b[0m\n\u001b[1;32m    135\u001b[0m \u001b[39mtry\u001b[39;00m:\n\u001b[0;32m--> 136\u001b[0m     \u001b[39mreturn\u001b[39;00m func(\u001b[39m*\u001b[39;49margs, \u001b[39m*\u001b[39;49m\u001b[39m*\u001b[39;49mkwargs)\n\u001b[1;32m    137\u001b[0m \u001b[39mexcept\u001b[39;00m \u001b[39mException\u001b[39;00m \u001b[39mas\u001b[39;00m e:\n",
      "File \u001b[0;32m/opt/homebrew/lib/python3.9/site-packages/dask/dataframe/io/csv.py:761\u001b[0m, in \u001b[0;36mmake_reader.<locals>.read\u001b[0;34m(urlpath, blocksize, lineterminator, compression, sample, sample_rows, enforce, assume_missing, storage_options, include_path_column, **kwargs)\u001b[0m\n\u001b[1;32m    748\u001b[0m \u001b[39mdef\u001b[39;00m \u001b[39mread\u001b[39m(\n\u001b[1;32m    749\u001b[0m     urlpath,\n\u001b[1;32m    750\u001b[0m     blocksize\u001b[39m=\u001b[39m\u001b[39m\"\u001b[39m\u001b[39mdefault\u001b[39m\u001b[39m\"\u001b[39m,\n\u001b[0;32m   (...)\u001b[0m\n\u001b[1;32m    759\u001b[0m     \u001b[39m*\u001b[39m\u001b[39m*\u001b[39mkwargs,\n\u001b[1;32m    760\u001b[0m ):\n\u001b[0;32m--> 761\u001b[0m     \u001b[39mreturn\u001b[39;00m read_pandas(\n\u001b[1;32m    762\u001b[0m         reader,\n\u001b[1;32m    763\u001b[0m         urlpath,\n\u001b[1;32m    764\u001b[0m         blocksize\u001b[39m=\u001b[39;49mblocksize,\n\u001b[1;32m    765\u001b[0m         lineterminator\u001b[39m=\u001b[39;49mlineterminator,\n\u001b[1;32m    766\u001b[0m         compression\u001b[39m=\u001b[39;49mcompression,\n\u001b[1;32m    767\u001b[0m         sample\u001b[39m=\u001b[39;49msample,\n\u001b[1;32m    768\u001b[0m         sample_rows\u001b[39m=\u001b[39;49msample_rows,\n\u001b[1;32m    769\u001b[0m         enforce\u001b[39m=\u001b[39;49menforce,\n\u001b[1;32m    770\u001b[0m         assume_missing\u001b[39m=\u001b[39;49massume_missing,\n\u001b[1;32m    771\u001b[0m         storage_options\u001b[39m=\u001b[39;49mstorage_options,\n\u001b[1;32m    772\u001b[0m         include_path_column\u001b[39m=\u001b[39;49minclude_path_column,\n\u001b[1;32m    773\u001b[0m         \u001b[39m*\u001b[39;49m\u001b[39m*\u001b[39;49mkwargs,\n\u001b[1;32m    774\u001b[0m     )\n",
      "File \u001b[0;32m/opt/homebrew/lib/python3.9/site-packages/dask/dataframe/io/csv.py:533\u001b[0m, in \u001b[0;36mread_pandas\u001b[0;34m(reader, urlpath, blocksize, lineterminator, compression, sample, sample_rows, enforce, assume_missing, storage_options, include_path_column, **kwargs)\u001b[0m\n\u001b[1;32m    532\u001b[0m \u001b[39mif\u001b[39;00m \u001b[39mlen\u001b[39m(paths) \u001b[39m==\u001b[39m \u001b[39m0\u001b[39m:\n\u001b[0;32m--> 533\u001b[0m     \u001b[39mraise\u001b[39;00m \u001b[39mOSError\u001b[39;00m(\u001b[39mf\u001b[39m\u001b[39m\"\u001b[39m\u001b[39m{\u001b[39;00murlpath\u001b[39m}\u001b[39;00m\u001b[39m resolved to no files\u001b[39m\u001b[39m\"\u001b[39m)\n\u001b[1;32m    535\u001b[0m \u001b[39m# Infer compression from first path\u001b[39;00m\n",
      "\u001b[0;31mOSError\u001b[0m: {2015,2016,2017,2018,2019,2020,2021,2022,2023}*street.csv resolved to no files",
      "\nThe above exception was the direct cause of the following exception:\n",
      "\u001b[0;31mOSError\u001b[0m                                   Traceback (most recent call last)",
      "\u001b[1;32m/Users/niloufar/Desktop/PhD/Semester 2/Crime revision/Archived data/all crimes/attaching_crime_data.ipynb Cell 1\u001b[0m in \u001b[0;36m<cell line: 7>\u001b[0;34m()\u001b[0m\n\u001b[1;32m      <a href='vscode-notebook-cell:/Users/niloufar/Desktop/PhD/Semester%202/Crime%20revision/Archived%20data/all%20crimes/attaching_crime_data.ipynb#W0sZmlsZQ%3D%3D?line=3'>4</a>\u001b[0m pattern \u001b[39m=\u001b[39m \u001b[39m'\u001b[39m\u001b[39m{\u001b[39m\u001b[39m2015,2016,2017,2018,2019,2020,2021,2022,2023}*street.csv\u001b[39m\u001b[39m'\u001b[39m\n\u001b[1;32m      <a href='vscode-notebook-cell:/Users/niloufar/Desktop/PhD/Semester%202/Crime%20revision/Archived%20data/all%20crimes/attaching_crime_data.ipynb#W0sZmlsZQ%3D%3D?line=5'>6</a>\u001b[0m \u001b[39m# Read the matching CSV files\u001b[39;00m\n\u001b[0;32m----> <a href='vscode-notebook-cell:/Users/niloufar/Desktop/PhD/Semester%202/Crime%20revision/Archived%20data/all%20crimes/attaching_crime_data.ipynb#W0sZmlsZQ%3D%3D?line=6'>7</a>\u001b[0m ddf \u001b[39m=\u001b[39m dd\u001b[39m.\u001b[39;49mread_csv(pattern)\n",
      "File \u001b[0;32m/opt/homebrew/lib/python3.9/site-packages/dask/backends.py:138\u001b[0m, in \u001b[0;36mCreationDispatch.register_inplace.<locals>.decorator.<locals>.wrapper\u001b[0;34m(*args, **kwargs)\u001b[0m\n\u001b[1;32m    136\u001b[0m     \u001b[39mreturn\u001b[39;00m func(\u001b[39m*\u001b[39margs, \u001b[39m*\u001b[39m\u001b[39m*\u001b[39mkwargs)\n\u001b[1;32m    137\u001b[0m \u001b[39mexcept\u001b[39;00m \u001b[39mException\u001b[39;00m \u001b[39mas\u001b[39;00m e:\n\u001b[0;32m--> 138\u001b[0m     \u001b[39mraise\u001b[39;00m \u001b[39mtype\u001b[39m(e)(\n\u001b[1;32m    139\u001b[0m         \u001b[39mf\u001b[39m\u001b[39m\"\u001b[39m\u001b[39mAn error occurred while calling the \u001b[39m\u001b[39m{\u001b[39;00mfuncname(func)\u001b[39m}\u001b[39;00m\u001b[39m \u001b[39m\u001b[39m\"\u001b[39m\n\u001b[1;32m    140\u001b[0m         \u001b[39mf\u001b[39m\u001b[39m\"\u001b[39m\u001b[39mmethod registered to the \u001b[39m\u001b[39m{\u001b[39;00m\u001b[39mself\u001b[39m\u001b[39m.\u001b[39mbackend\u001b[39m}\u001b[39;00m\u001b[39m backend.\u001b[39m\u001b[39m\\n\u001b[39;00m\u001b[39m\"\u001b[39m\n\u001b[1;32m    141\u001b[0m         \u001b[39mf\u001b[39m\u001b[39m\"\u001b[39m\u001b[39mOriginal Message: \u001b[39m\u001b[39m{\u001b[39;00me\u001b[39m}\u001b[39;00m\u001b[39m\"\u001b[39m\n\u001b[1;32m    142\u001b[0m     ) \u001b[39mfrom\u001b[39;00m \u001b[39me\u001b[39;00m\n",
      "\u001b[0;31mOSError\u001b[0m: An error occurred while calling the read_csv method registered to the pandas backend.\nOriginal Message: {2015,2016,2017,2018,2019,2020,2021,2022,2023}*street.csv resolved to no files"
     ]
    }
   ],
   "source": [
    "import dask.dataframe as dd\n",
    "\n",
    "# Create a pattern to match all files from 2015 to 2023 ending with 'street.csv'\n",
    "pattern = '{2015,2016,2017,2018,2019,2020,2021,2022,2023}*street.csv'\n",
    "\n",
    "# Read the matching CSV files\n",
    "ddf = dd.read_csv(pattern)\n"
   ]
  },
  {
   "cell_type": "code",
   "execution_count": 2,
   "metadata": {},
   "outputs": [],
   "source": [
    "import glob\n",
    "\n",
    "# Generate a list of file paths that match the pattern\n",
    "file_paths = [f for f in glob.glob('*-street.csv') if any(str(year) in f for year in range(2015, 2024))]"
   ]
  },
  {
   "cell_type": "code",
   "execution_count": 8,
   "metadata": {},
   "outputs": [],
   "source": [
    "ddf = dd.read_csv(file_paths)"
   ]
  },
  {
   "cell_type": "code",
   "execution_count": 10,
   "metadata": {},
   "outputs": [],
   "source": [
    "result_pandas_df = ddf.compute()"
   ]
  },
  {
   "cell_type": "code",
   "execution_count": 13,
   "metadata": {},
   "outputs": [
    {
     "data": {
      "text/plain": [
       "(52909388, 12)"
      ]
     },
     "execution_count": 13,
     "metadata": {},
     "output_type": "execute_result"
    }
   ],
   "source": [
    "result_pandas_df.shape"
   ]
  },
  {
   "cell_type": "code",
   "execution_count": 14,
   "metadata": {},
   "outputs": [
    {
     "data": {
      "text/plain": [
       "Index(['Crime ID', 'Month', 'Reported by', 'Falls within', 'Longitude',\n",
       "       'Latitude', 'Location', 'LSOA code', 'LSOA name', 'Crime type',\n",
       "       'Last outcome category', 'Context'],\n",
       "      dtype='object')"
      ]
     },
     "execution_count": 14,
     "metadata": {},
     "output_type": "execute_result"
    }
   ],
   "source": [
    "result_pandas_df.columns"
   ]
  },
  {
   "cell_type": "code",
   "execution_count": 15,
   "metadata": {},
   "outputs": [],
   "source": [
    "import pandas as pd\n",
    "\n",
    "lsoa_la_uk = pd.read_csv('lsoa_la_uk.csv') "
   ]
  },
  {
   "cell_type": "code",
   "execution_count": 16,
   "metadata": {},
   "outputs": [
    {
     "data": {
      "text/plain": [
       "Index(['LSOA code', 'la_code'], dtype='object')"
      ]
     },
     "execution_count": 16,
     "metadata": {},
     "output_type": "execute_result"
    }
   ],
   "source": [
    "lsoa_la_uk.columns"
   ]
  },
  {
   "cell_type": "code",
   "execution_count": 17,
   "metadata": {},
   "outputs": [],
   "source": [
    "result = pd.merge(result_pandas_df, lsoa_la_uk, on='LSOA code', how='left')\n"
   ]
  },
  {
   "cell_type": "code",
   "execution_count": 20,
   "metadata": {},
   "outputs": [],
   "source": [
    "summarised_df = result.groupby(['la_code', 'Month', 'Crime type']).size().reset_index(name='count')"
   ]
  },
  {
   "cell_type": "code",
   "execution_count": 21,
   "metadata": {},
   "outputs": [
    {
     "data": {
      "text/html": [
       "<div>\n",
       "<style scoped>\n",
       "    .dataframe tbody tr th:only-of-type {\n",
       "        vertical-align: middle;\n",
       "    }\n",
       "\n",
       "    .dataframe tbody tr th {\n",
       "        vertical-align: top;\n",
       "    }\n",
       "\n",
       "    .dataframe thead th {\n",
       "        text-align: right;\n",
       "    }\n",
       "</style>\n",
       "<table border=\"1\" class=\"dataframe\">\n",
       "  <thead>\n",
       "    <tr style=\"text-align: right;\">\n",
       "      <th></th>\n",
       "      <th>la_code</th>\n",
       "      <th>Month</th>\n",
       "      <th>Crime type</th>\n",
       "      <th>count</th>\n",
       "    </tr>\n",
       "  </thead>\n",
       "  <tbody>\n",
       "    <tr>\n",
       "      <th>0</th>\n",
       "      <td>E06000001</td>\n",
       "      <td>2015-01</td>\n",
       "      <td>Anti-social behaviour</td>\n",
       "      <td>545</td>\n",
       "    </tr>\n",
       "    <tr>\n",
       "      <th>1</th>\n",
       "      <td>E06000001</td>\n",
       "      <td>2015-01</td>\n",
       "      <td>Bicycle theft</td>\n",
       "      <td>9</td>\n",
       "    </tr>\n",
       "    <tr>\n",
       "      <th>2</th>\n",
       "      <td>E06000001</td>\n",
       "      <td>2015-01</td>\n",
       "      <td>Burglary</td>\n",
       "      <td>76</td>\n",
       "    </tr>\n",
       "    <tr>\n",
       "      <th>3</th>\n",
       "      <td>E06000001</td>\n",
       "      <td>2015-01</td>\n",
       "      <td>Criminal damage and arson</td>\n",
       "      <td>117</td>\n",
       "    </tr>\n",
       "    <tr>\n",
       "      <th>4</th>\n",
       "      <td>E06000001</td>\n",
       "      <td>2015-01</td>\n",
       "      <td>Drugs</td>\n",
       "      <td>25</td>\n",
       "    </tr>\n",
       "    <tr>\n",
       "      <th>...</th>\n",
       "      <td>...</td>\n",
       "      <td>...</td>\n",
       "      <td>...</td>\n",
       "      <td>...</td>\n",
       "    </tr>\n",
       "    <tr>\n",
       "      <th>464593</th>\n",
       "      <td>W06000024</td>\n",
       "      <td>2023-05</td>\n",
       "      <td>Robbery</td>\n",
       "      <td>2</td>\n",
       "    </tr>\n",
       "    <tr>\n",
       "      <th>464594</th>\n",
       "      <td>W06000024</td>\n",
       "      <td>2023-05</td>\n",
       "      <td>Shoplifting</td>\n",
       "      <td>70</td>\n",
       "    </tr>\n",
       "    <tr>\n",
       "      <th>464595</th>\n",
       "      <td>W06000024</td>\n",
       "      <td>2023-05</td>\n",
       "      <td>Theft from the person</td>\n",
       "      <td>7</td>\n",
       "    </tr>\n",
       "    <tr>\n",
       "      <th>464596</th>\n",
       "      <td>W06000024</td>\n",
       "      <td>2023-05</td>\n",
       "      <td>Vehicle crime</td>\n",
       "      <td>27</td>\n",
       "    </tr>\n",
       "    <tr>\n",
       "      <th>464597</th>\n",
       "      <td>W06000024</td>\n",
       "      <td>2023-05</td>\n",
       "      <td>Violence and sexual offences</td>\n",
       "      <td>191</td>\n",
       "    </tr>\n",
       "  </tbody>\n",
       "</table>\n",
       "<p>464598 rows × 4 columns</p>\n",
       "</div>"
      ],
      "text/plain": [
       "          la_code    Month                    Crime type  count\n",
       "0       E06000001  2015-01         Anti-social behaviour    545\n",
       "1       E06000001  2015-01                 Bicycle theft      9\n",
       "2       E06000001  2015-01                      Burglary     76\n",
       "3       E06000001  2015-01     Criminal damage and arson    117\n",
       "4       E06000001  2015-01                         Drugs     25\n",
       "...           ...      ...                           ...    ...\n",
       "464593  W06000024  2023-05                       Robbery      2\n",
       "464594  W06000024  2023-05                   Shoplifting     70\n",
       "464595  W06000024  2023-05         Theft from the person      7\n",
       "464596  W06000024  2023-05                 Vehicle crime     27\n",
       "464597  W06000024  2023-05  Violence and sexual offences    191\n",
       "\n",
       "[464598 rows x 4 columns]"
      ]
     },
     "execution_count": 21,
     "metadata": {},
     "output_type": "execute_result"
    }
   ],
   "source": [
    "summarised_df"
   ]
  },
  {
   "cell_type": "code",
   "execution_count": 22,
   "metadata": {},
   "outputs": [],
   "source": [
    "#summarised_df.to_csv('la_street_data_all.csv', index=False)"
   ]
  },
  {
   "cell_type": "code",
   "execution_count": 23,
   "metadata": {},
   "outputs": [],
   "source": [
    "summarised_df.to_parquet('la_street_data_all.parquet', index=False)"
   ]
  },
  {
   "cell_type": "code",
   "execution_count": 24,
   "metadata": {},
   "outputs": [
    {
     "data": {
      "text/plain": [
       "339"
      ]
     },
     "execution_count": 24,
     "metadata": {},
     "output_type": "execute_result"
    }
   ],
   "source": [
    "len(summarised_df.la_code.unique())"
   ]
  }
 ],
 "metadata": {
  "kernelspec": {
   "display_name": "Python 3",
   "language": "python",
   "name": "python3"
  },
  "language_info": {
   "codemirror_mode": {
    "name": "ipython",
    "version": 3
   },
   "file_extension": ".py",
   "mimetype": "text/x-python",
   "name": "python",
   "nbconvert_exporter": "python",
   "pygments_lexer": "ipython3",
   "version": "3.9.16"
  },
  "orig_nbformat": 4
 },
 "nbformat": 4,
 "nbformat_minor": 2
}
